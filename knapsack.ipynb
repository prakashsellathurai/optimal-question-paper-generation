{
 "cells": [
  {
   "cell_type": "code",
   "execution_count": 12,
   "metadata": {},
   "outputs": [
    {
     "name": "stdout",
     "output_type": "stream",
     "text": [
      "Maximum value: 12\n",
      "Name Value Weight\n",
      "Q1    1     1\n",
      "Q2    1     2\n",
      "Q3    2     2\n",
      "Q6    3     7\n",
      "Q7    2     3\n",
      "Q10    3     5\n"
     ]
    }
   ],
   "source": [
    "from collections import namedtuple\n",
    "\n",
    "Item = namedtuple('Item', 'name value weight')\n",
    "\n",
    "def knapsack(allowed_weight, items):\n",
    "    \"\"\"\n",
    "    Given a list of items with name, value and weight.\n",
    "    Return the optimal value with total weight <= allowed weight and \n",
    "    list of picked items.\n",
    "    \"\"\" \n",
    "    k = [\n",
    "        [0 for x in range(allowed_weight + 1)]\n",
    "        for x in range(len(items) + 1)\n",
    "    ]\n",
    "\n",
    "    for next_idx, (item, weights) in enumerate(zip(items, k), 1):\n",
    "        for w, current_weight in enumerate(weights[1:], 1):\n",
    "            if item.weight <= w:\n",
    "                k[next_idx][w] = max(\n",
    "                    item.value + weights[w - item.weight],\n",
    "                    current_weight\n",
    "                )\n",
    "            else:\n",
    "                k[next_idx][w] = current_weight\n",
    "\n",
    "    return k[-1][-1], list(fetch_items(k, allowed_weight, items))\n",
    "\n",
    "# find which item are picked\n",
    "def fetch_items(k, allowed_weight, items):\n",
    "    for item, weights_p, weights_n in zip(items[::-1], k[-2::-1], k[::-1]):\n",
    "        if weights_n[allowed_weight] != weights_p[allowed_weight]:\n",
    "            yield item\n",
    "            allowed_weight -= item.weight\n",
    "\n",
    "if __name__ == '__main__':\n",
    "    items = [\n",
    "        Item('Q1', 1, 1),\n",
    "        Item('Q2', 1, 2),\n",
    "        Item('Q3', 2, 2),\n",
    "        Item('Q4', 3, 9),\n",
    "        Item('Q5', 1, 3),\n",
    "        Item('Q6', 3, 7),\n",
    "        Item('Q7', 2, 3),\n",
    "        Item('Q8', 1, 3),\n",
    "        Item('Q9', 2, 5),\n",
    "        Item('Q10', 3, 5),\n",
    "    ]\n",
    "    max_value, picked = knapsack(20, items)\n",
    "    print(\"Maximum value:\", max_value)\n",
    "    print(\"Name\", \"Value\", \"Weight\")\n",
    "    for item in reversed(picked):\n",
    "        print(item.name, ' '*2, item.value, ' '*3, item.weight)"
   ]
  }
 ],
 "metadata": {
  "kernelspec": {
   "display_name": "Python 3",
   "language": "python",
   "name": "python3"
  },
  "language_info": {
   "codemirror_mode": {
    "name": "ipython",
    "version": 3
   },
   "file_extension": ".py",
   "mimetype": "text/x-python",
   "name": "python",
   "nbconvert_exporter": "python",
   "pygments_lexer": "ipython3",
   "version": "3.6.4"
  }
 },
 "nbformat": 4,
 "nbformat_minor": 2
}
