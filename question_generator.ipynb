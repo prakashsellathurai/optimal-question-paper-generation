{
 "cells": [
  {
   "cell_type": "code",
   "execution_count": 59,
   "metadata": {},
   "outputs": [
    {
     "name": "stdout",
     "output_type": "stream",
     "text": [
      "Q1\n",
      "Q2\n",
      "Q3\n",
      "Q5\n",
      "Q7\n",
      "Q8\n",
      "Q9\n"
     ]
    }
   ],
   "source": [
    "import input\n",
    "\n",
    "from collections import namedtuple\n",
    "\n",
    "Item = namedtuple('Item', 'name value weight')\n",
    "\n",
    "def knapsack(allowed_weight, items):\n",
    "    \"\"\"\n",
    "    Given a list of items with name, value and weight.\n",
    "    Return the optimal value with total weight <= allowed weight and \n",
    "    list of picked items.\n",
    "    \"\"\" \n",
    "    k = [\n",
    "        [0 for x in range(allowed_weight + 1)]\n",
    "        for x in range(len(items) + 1)\n",
    "    ]\n",
    "\n",
    "    for next_idx, (item, weights) in enumerate(zip(items, k), 1):\n",
    "        for w, current_weight in enumerate(weights[1:], 1):\n",
    "            if item.weight <= w:\n",
    "                k[next_idx][w] = max(\n",
    "                    item.value + weights[w - item.weight],\n",
    "                    current_weight\n",
    "                )\n",
    "            else:\n",
    "                k[next_idx][w] = current_weight\n",
    "\n",
    "    return k[-1][-1], list(fetch_items(k, allowed_weight, items))\n",
    "\n",
    "# find which item are picked\n",
    "def fetch_items(k, allowed_weight, items):\n",
    "    for item, weights_p, weights_n in zip(items[::-1], k[-2::-1], k[::-1]):\n",
    "        if weights_n[allowed_weight] != weights_p[allowed_weight]:\n",
    "            yield item\n",
    "            allowed_weight -= item.weight\n",
    "\n",
    "def question_generator(json):\n",
    "    required_easy_questions_marks = int(json[\"total_marks\"]) * int(json[\"easy_percentage\"]) / 100\n",
    "    required_medium_questions_marks = int(json[\"total_marks\"]) * int(json[\"medium_percentage\"]) / 100\n",
    "    required_hard_questions_marks = int(json[\"total_marks\"]) * int(json[\"hard_percentage\"]) / 100\n",
    "    \n",
    "    sum = required_easy_questions_marks + required_medium_questions_marks + required_hard_questions_marks\n",
    "    \n",
    "    if (sum != int(json[\"total_marks\"])):\n",
    "        print(\"check your mark splitting percentage it is not consistent \")\n",
    "    else:\n",
    "        items = []\n",
    "        for item in json[\"questions\"]:\n",
    "            if item[\"difficulty\"] == \"easy\":\n",
    "                difficulty = 1\n",
    "            elif item[\"difficulty\"] == \"medium\":\n",
    "                difficulty = 2\n",
    "            else: \n",
    "                 difficulty = 3\n",
    "            items.append(Item(item[\"id\"],difficulty,int(item[\"marks\"])))\n",
    "            \n",
    "        return knapsack(int(json[\"total_marks\"]), items)\n",
    "\n",
    "if __name__ == '__main__':\n",
    "    json = input.input_parser(\"input.txt\")\n",
    "    max_value, picked = question_generator(json)\n",
    "    for item in reversed(picked):\n",
    "        print(item.name)"
   ]
  }
 ],
 "metadata": {
  "kernelspec": {
   "display_name": "Python 3",
   "language": "python",
   "name": "python3"
  },
  "language_info": {
   "codemirror_mode": {
    "name": "ipython",
    "version": 3
   },
   "file_extension": ".py",
   "mimetype": "text/x-python",
   "name": "python",
   "nbconvert_exporter": "python",
   "pygments_lexer": "ipython3",
   "version": "3.6.4"
  }
 },
 "nbformat": 4,
 "nbformat_minor": 2
}
