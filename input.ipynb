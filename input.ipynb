{
 "cells": [
  {
   "cell_type": "code",
   "execution_count": 86,
   "metadata": {},
   "outputs": [
    {
     "name": "stdout",
     "output_type": "stream",
     "text": [
      "{'TotalQuestions': 10, 'questions': [{'id': 'Q1', 'difficulty': ' easy', 'marks': ' 1'}, {'id': 'Q2', 'difficulty': ' easy', 'marks': ' 2'}, {'id': 'Q3', 'difficulty': ' medium', 'marks': ' 2'}, {'id': 'Q4', 'difficulty': ' hard', 'marks': ' 9'}, {'id': 'Q5', 'difficulty': ' easy', 'marks': ' 3'}, {'id': 'Q6', 'difficulty': ' hard', 'marks': ' 7'}, {'id': 'Q7', 'difficulty': ' medium', 'marks': ' 3'}, {'id': 'Q8', 'difficulty': ' easy', 'marks': ' 3'}, {'id': 'Q9', 'difficulty': ' medium', 'marks': ' 5'}, {'id': 'Q10', 'difficulty': ' hard', 'marks': ' 5'}], 'total_marks': '20', 'easy_percentage': '25', 'medium_percentage': '50', 'hard_percentage': '25'}\n"
     ]
    }
   ],
   "source": [
    "import re\n",
    "def parser(file_name):\n",
    "    input ={}\n",
    "    array_of_questions = []\n",
    "    \n",
    "    f = open(file_name, \"r\")\n",
    "    number_of_questions = int(f.readline())\n",
    "    input[\"TotalQuestions\"] = number_of_questions\n",
    "    i = 0\n",
    "    while (i < number_of_questions):\n",
    "        line = f.readline().rstrip().split(',')\n",
    "        question = {}\n",
    "        question[\"id\"] = line[0]\n",
    "        question[\"difficulty\"] = line[1]\n",
    "        question[\"marks\"] = line[2]\n",
    "        array_of_questions.append(question)\n",
    "        i = i+1\n",
    "    input[\"questions\"] = array_of_questions\n",
    "    furtherdetails = f.readline().rstrip()\n",
    "    get_numbers = re.findall(r'\\d+', furtherdetails)\n",
    "    input[\"total_marks\"] = get_numbers[0]\n",
    "    input[\"easy_percentage\"] = get_numbers[1]\n",
    "    input[\"medium_percentage\"] = get_numbers[2]\n",
    "    input[\"hard_percentage\"] = get_numbers[3]\n",
    "    return input\n",
    "    f.close()\n",
    "\n",
    "input = parser(\"input.txt\")\n"
   ]
  }
 ],
 "metadata": {
  "kernelspec": {
   "display_name": "Python 3",
   "language": "python",
   "name": "python3"
  },
  "language_info": {
   "codemirror_mode": {
    "name": "ipython",
    "version": 3
   },
   "file_extension": ".py",
   "mimetype": "text/x-python",
   "name": "python",
   "nbconvert_exporter": "python",
   "pygments_lexer": "ipython3",
   "version": "3.6.4"
  }
 },
 "nbformat": 4,
 "nbformat_minor": 2
}
